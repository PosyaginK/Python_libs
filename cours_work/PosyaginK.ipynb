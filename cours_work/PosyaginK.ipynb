{
 "cells": [
  {
   "cell_type": "markdown",
   "id": "bcb1bfa9-3131-4ef1-9c5c-60c109437619",
   "metadata": {},
   "source": [
    "#  Real Estate Price Prediction\n",
    "[Geekbrains Python for Data Science course competition](https://www.kaggle.com/c/real-estate-price-prediction-moscow)"
   ]
  },
  {
   "cell_type": "markdown",
   "id": "b6954cf3-850a-44ea-9089-cef26d0e2619",
   "metadata": {},
   "source": [
    "Курсовой проект по теме \"Библиотеки Python для Data Science: Numpy, Matplotlib, Scikit-learn\".\n",
    "\n",
    "**Задача:** предсказать стоимость недвижимости.\n",
    "\n",
    "**Метрика:** R2 - коэффициент детерминации (sklearn.metrics.r2_score)  "
   ]
  },
  {
   "cell_type": "markdown",
   "id": "e2876358-c1f8-4841-a508-d8ca028ec047",
   "metadata": {},
   "source": [
    "## Выполнил [Посягин Константин](https://gb.ru/users/1024991), группа 1114"
   ]
  },
  {
   "cell_type": "markdown",
   "id": "bf2850a0-9391-4fe1-9eb6-ceb66d527aca",
   "metadata": {},
   "source": [
    "НАЧНЕМ!"
   ]
  },
  {
   "cell_type": "markdown",
   "id": "0284a1b3-377a-464d-af02-fd2370d4e3bf",
   "metadata": {},
   "source": [
    "_________________________________________"
   ]
  },
  {
   "cell_type": "markdown",
   "id": "2e75abec-7203-4a1a-8b10-54942f6df297",
   "metadata": {},
   "source": [
    "# 0. Подгружаем библиотеки"
   ]
  },
  {
   "cell_type": "code",
   "execution_count": 45,
   "id": "e8dcfeb1-509d-43bf-a287-b24620282367",
   "metadata": {},
   "outputs": [],
   "source": [
    "import numpy as np\n",
    "import pandas as pd\n",
    "import math\n",
    "\n",
    "import matplotlib as mpl\n",
    "from matplotlib import pyplot as plt\n",
    "%config InlineBackend.figure_format = 'svg'\n",
    "%matplotlib inline\n",
    "\n",
    "import seaborn as sns\n",
    "sns.set_style('whitegrid')\n",
    "\n",
    "import warnings\n",
    "warnings.filterwarnings(\"ignore\") \n",
    "\n",
    "import re\n",
    "from pylab import rcParams\n",
    "\n",
    "mpl.rcParams.update({'font.size': 14})\n",
    "\n",
    "import sklearn as skl\n",
    "from sklearn.model_selection import train_test_split, KFold, GridSearchCV\n",
    "from sklearn.linear_model import LinearRegression\n",
    "from sklearn.metrics import mean_squared_error as mse, r2_score as r2"
   ]
  },
  {
   "cell_type": "markdown",
   "id": "472e746e-5cd3-4ad1-b6eb-9ace85cf81bb",
   "metadata": {},
   "source": [
    "# 1. Загружаем данные "
   ]
  },
  {
   "cell_type": "code",
   "execution_count": 2,
   "id": "500a15ee-e18d-44d4-a227-5680c5616e0b",
   "metadata": {},
   "outputs": [],
   "source": [
    "df_train = pd.read_csv('train.csv')\n",
    "df_test = pd.read_csv('test.csv')"
   ]
  },
  {
   "cell_type": "code",
   "execution_count": 3,
   "id": "b2112347-a64b-4924-8018-17ee5c6f82d9",
   "metadata": {},
   "outputs": [
    {
     "data": {
      "text/plain": [
       "Index(['Id', 'DistrictId', 'Rooms', 'Square', 'LifeSquare', 'KitchenSquare',\n",
       "       'Floor', 'HouseFloor', 'HouseYear', 'Ecology_1', 'Ecology_2',\n",
       "       'Ecology_3', 'Social_1', 'Social_2', 'Social_3', 'Healthcare_1',\n",
       "       'Helthcare_2', 'Shops_1', 'Shops_2', 'Price'],\n",
       "      dtype='object')"
      ]
     },
     "execution_count": 3,
     "metadata": {},
     "output_type": "execute_result"
    }
   ],
   "source": [
    "df_train.columns"
   ]
  },
  {
   "cell_type": "markdown",
   "id": "8d90fc25-011a-4b5e-a811-164fe16a1543",
   "metadata": {},
   "source": [
    "## Описание датасета"
   ]
  },
  {
   "cell_type": "markdown",
   "id": "b9227e95-9e98-4ed2-8619-b03919751bc1",
   "metadata": {},
   "source": [
    "**Id** - идентификационный номер квартиры \n",
    "\n",
    "**DistrictId** - идентификационный номер района\n",
    "\n",
    "**Rooms** - количество комнат\n",
    "\n",
    "**Square** - площадь\n",
    "\n",
    "**LifeSquare** - жилая площадь\n",
    "\n",
    "**KitchenSquare** - площадь кухни\n",
    "\n",
    "**Floor** - этаж\n",
    "\n",
    "**HouseFloor** - количество этажей в доме\n",
    "\n",
    "**HouseYear** - год постройки дома\n",
    "\n",
    "**Ecology_1, Ecology_2, Ecology_3** - экологические показатели местности\n",
    "\n",
    "**Social_1, Social_2, Social_3** - социальные показатели местности\n",
    "\n",
    "**Healthcare_1, Helthcare_2** - показатели местности, связанные с охраной здоровья\n",
    "\n",
    "**Shops_1, Shops_2** - показатели, связанные с наличием магазинов, торговых центров\n",
    "\n",
    "**Price** - цена квартиры"
   ]
  },
  {
   "cell_type": "code",
   "execution_count": 4,
   "id": "91094b82-40cd-4ba4-9e03-49390a5af691",
   "metadata": {},
   "outputs": [
    {
     "data": {
      "text/html": [
       "<div>\n",
       "<style scoped>\n",
       "    .dataframe tbody tr th:only-of-type {\n",
       "        vertical-align: middle;\n",
       "    }\n",
       "\n",
       "    .dataframe tbody tr th {\n",
       "        vertical-align: top;\n",
       "    }\n",
       "\n",
       "    .dataframe thead th {\n",
       "        text-align: right;\n",
       "    }\n",
       "</style>\n",
       "<table border=\"1\" class=\"dataframe\">\n",
       "  <thead>\n",
       "    <tr style=\"text-align: right;\">\n",
       "      <th></th>\n",
       "      <th>Id</th>\n",
       "      <th>DistrictId</th>\n",
       "      <th>Rooms</th>\n",
       "      <th>Square</th>\n",
       "      <th>LifeSquare</th>\n",
       "      <th>KitchenSquare</th>\n",
       "      <th>Floor</th>\n",
       "      <th>HouseFloor</th>\n",
       "      <th>HouseYear</th>\n",
       "      <th>Ecology_1</th>\n",
       "      <th>Ecology_2</th>\n",
       "      <th>Ecology_3</th>\n",
       "      <th>Social_1</th>\n",
       "      <th>Social_2</th>\n",
       "      <th>Social_3</th>\n",
       "      <th>Healthcare_1</th>\n",
       "      <th>Helthcare_2</th>\n",
       "      <th>Shops_1</th>\n",
       "      <th>Shops_2</th>\n",
       "      <th>Price</th>\n",
       "    </tr>\n",
       "  </thead>\n",
       "  <tbody>\n",
       "    <tr>\n",
       "      <th>0</th>\n",
       "      <td>11809</td>\n",
       "      <td>27</td>\n",
       "      <td>3.0</td>\n",
       "      <td>115.027311</td>\n",
       "      <td>NaN</td>\n",
       "      <td>10.0</td>\n",
       "      <td>4</td>\n",
       "      <td>10.0</td>\n",
       "      <td>2014</td>\n",
       "      <td>0.075424</td>\n",
       "      <td>B</td>\n",
       "      <td>B</td>\n",
       "      <td>11</td>\n",
       "      <td>3097</td>\n",
       "      <td>0</td>\n",
       "      <td>NaN</td>\n",
       "      <td>0</td>\n",
       "      <td>0</td>\n",
       "      <td>B</td>\n",
       "      <td>305018.871089</td>\n",
       "    </tr>\n",
       "    <tr>\n",
       "      <th>1</th>\n",
       "      <td>3013</td>\n",
       "      <td>22</td>\n",
       "      <td>1.0</td>\n",
       "      <td>39.832524</td>\n",
       "      <td>23.169223</td>\n",
       "      <td>8.0</td>\n",
       "      <td>7</td>\n",
       "      <td>8.0</td>\n",
       "      <td>1966</td>\n",
       "      <td>0.118537</td>\n",
       "      <td>B</td>\n",
       "      <td>B</td>\n",
       "      <td>30</td>\n",
       "      <td>6207</td>\n",
       "      <td>1</td>\n",
       "      <td>1183.0</td>\n",
       "      <td>1</td>\n",
       "      <td>0</td>\n",
       "      <td>B</td>\n",
       "      <td>177734.553407</td>\n",
       "    </tr>\n",
       "    <tr>\n",
       "      <th>2</th>\n",
       "      <td>8215</td>\n",
       "      <td>1</td>\n",
       "      <td>3.0</td>\n",
       "      <td>78.342215</td>\n",
       "      <td>47.671972</td>\n",
       "      <td>10.0</td>\n",
       "      <td>2</td>\n",
       "      <td>17.0</td>\n",
       "      <td>1988</td>\n",
       "      <td>0.025609</td>\n",
       "      <td>B</td>\n",
       "      <td>B</td>\n",
       "      <td>33</td>\n",
       "      <td>5261</td>\n",
       "      <td>0</td>\n",
       "      <td>240.0</td>\n",
       "      <td>3</td>\n",
       "      <td>1</td>\n",
       "      <td>B</td>\n",
       "      <td>282078.720850</td>\n",
       "    </tr>\n",
       "    <tr>\n",
       "      <th>3</th>\n",
       "      <td>2352</td>\n",
       "      <td>1</td>\n",
       "      <td>1.0</td>\n",
       "      <td>40.409907</td>\n",
       "      <td>NaN</td>\n",
       "      <td>1.0</td>\n",
       "      <td>10</td>\n",
       "      <td>22.0</td>\n",
       "      <td>1977</td>\n",
       "      <td>0.007122</td>\n",
       "      <td>B</td>\n",
       "      <td>B</td>\n",
       "      <td>1</td>\n",
       "      <td>264</td>\n",
       "      <td>0</td>\n",
       "      <td>NaN</td>\n",
       "      <td>0</td>\n",
       "      <td>1</td>\n",
       "      <td>B</td>\n",
       "      <td>168106.007630</td>\n",
       "    </tr>\n",
       "    <tr>\n",
       "      <th>4</th>\n",
       "      <td>13866</td>\n",
       "      <td>94</td>\n",
       "      <td>2.0</td>\n",
       "      <td>64.285067</td>\n",
       "      <td>38.562517</td>\n",
       "      <td>9.0</td>\n",
       "      <td>16</td>\n",
       "      <td>16.0</td>\n",
       "      <td>1972</td>\n",
       "      <td>0.282798</td>\n",
       "      <td>B</td>\n",
       "      <td>B</td>\n",
       "      <td>33</td>\n",
       "      <td>8667</td>\n",
       "      <td>2</td>\n",
       "      <td>NaN</td>\n",
       "      <td>0</td>\n",
       "      <td>6</td>\n",
       "      <td>B</td>\n",
       "      <td>343995.102962</td>\n",
       "    </tr>\n",
       "  </tbody>\n",
       "</table>\n",
       "</div>"
      ],
      "text/plain": [
       "      Id  DistrictId  Rooms      Square  LifeSquare  KitchenSquare  Floor  \\\n",
       "0  11809          27    3.0  115.027311         NaN           10.0      4   \n",
       "1   3013          22    1.0   39.832524   23.169223            8.0      7   \n",
       "2   8215           1    3.0   78.342215   47.671972           10.0      2   \n",
       "3   2352           1    1.0   40.409907         NaN            1.0     10   \n",
       "4  13866          94    2.0   64.285067   38.562517            9.0     16   \n",
       "\n",
       "   HouseFloor  HouseYear  Ecology_1 Ecology_2 Ecology_3  Social_1  Social_2  \\\n",
       "0        10.0       2014   0.075424         B         B        11      3097   \n",
       "1         8.0       1966   0.118537         B         B        30      6207   \n",
       "2        17.0       1988   0.025609         B         B        33      5261   \n",
       "3        22.0       1977   0.007122         B         B         1       264   \n",
       "4        16.0       1972   0.282798         B         B        33      8667   \n",
       "\n",
       "   Social_3  Healthcare_1  Helthcare_2  Shops_1 Shops_2          Price  \n",
       "0         0           NaN            0        0       B  305018.871089  \n",
       "1         1        1183.0            1        0       B  177734.553407  \n",
       "2         0         240.0            3        1       B  282078.720850  \n",
       "3         0           NaN            0        1       B  168106.007630  \n",
       "4         2           NaN            0        6       B  343995.102962  "
      ]
     },
     "execution_count": 4,
     "metadata": {},
     "output_type": "execute_result"
    }
   ],
   "source": [
    "df_train.head()"
   ]
  },
  {
   "cell_type": "code",
   "execution_count": 5,
   "id": "6848d0d0-323c-4c8f-b846-b1512e01e89a",
   "metadata": {},
   "outputs": [
    {
     "name": "stdout",
     "output_type": "stream",
     "text": [
      "<class 'pandas.core.frame.DataFrame'>\n",
      "RangeIndex: 10000 entries, 0 to 9999\n",
      "Data columns (total 20 columns):\n",
      " #   Column         Non-Null Count  Dtype  \n",
      "---  ------         --------------  -----  \n",
      " 0   Id             10000 non-null  int64  \n",
      " 1   DistrictId     10000 non-null  int64  \n",
      " 2   Rooms          10000 non-null  float64\n",
      " 3   Square         10000 non-null  float64\n",
      " 4   LifeSquare     7887 non-null   float64\n",
      " 5   KitchenSquare  10000 non-null  float64\n",
      " 6   Floor          10000 non-null  int64  \n",
      " 7   HouseFloor     10000 non-null  float64\n",
      " 8   HouseYear      10000 non-null  int64  \n",
      " 9   Ecology_1      10000 non-null  float64\n",
      " 10  Ecology_2      10000 non-null  object \n",
      " 11  Ecology_3      10000 non-null  object \n",
      " 12  Social_1       10000 non-null  int64  \n",
      " 13  Social_2       10000 non-null  int64  \n",
      " 14  Social_3       10000 non-null  int64  \n",
      " 15  Healthcare_1   5202 non-null   float64\n",
      " 16  Helthcare_2    10000 non-null  int64  \n",
      " 17  Shops_1        10000 non-null  int64  \n",
      " 18  Shops_2        10000 non-null  object \n",
      " 19  Price          10000 non-null  float64\n",
      "dtypes: float64(8), int64(9), object(3)\n",
      "memory usage: 1.5+ MB\n"
     ]
    }
   ],
   "source": [
    "df_train.info()"
   ]
  },
  {
   "cell_type": "markdown",
   "id": "c5c8de9c-325a-4ba0-810c-8e417fb65d4a",
   "metadata": {},
   "source": [
    "Сразу же видим:\n",
    "\n",
    "1. В столбцах LifeSquare и Healthcare_1 есть пропуски!\n",
    "2. Тип данных в столбцах [Ecology_2, Ecology_3 и Shops_2] - object."
   ]
  },
  {
   "cell_type": "markdown",
   "id": "039909e4-0b33-4809-88c0-074161f56e26",
   "metadata": {},
   "source": [
    "Посмотрим подробнее на количественные характеристики"
   ]
  },
  {
   "cell_type": "code",
   "execution_count": 6,
   "id": "e5996757-f530-42e1-a76f-411300b40573",
   "metadata": {},
   "outputs": [
    {
     "data": {
      "text/html": [
       "<div>\n",
       "<style scoped>\n",
       "    .dataframe tbody tr th:only-of-type {\n",
       "        vertical-align: middle;\n",
       "    }\n",
       "\n",
       "    .dataframe tbody tr th {\n",
       "        vertical-align: top;\n",
       "    }\n",
       "\n",
       "    .dataframe thead th {\n",
       "        text-align: right;\n",
       "    }\n",
       "</style>\n",
       "<table border=\"1\" class=\"dataframe\">\n",
       "  <thead>\n",
       "    <tr style=\"text-align: right;\">\n",
       "      <th></th>\n",
       "      <th>Id</th>\n",
       "      <th>DistrictId</th>\n",
       "      <th>Rooms</th>\n",
       "      <th>Square</th>\n",
       "      <th>LifeSquare</th>\n",
       "      <th>KitchenSquare</th>\n",
       "      <th>Floor</th>\n",
       "      <th>HouseFloor</th>\n",
       "      <th>HouseYear</th>\n",
       "      <th>Ecology_1</th>\n",
       "      <th>Ecology_2</th>\n",
       "      <th>Ecology_3</th>\n",
       "      <th>Social_1</th>\n",
       "      <th>Social_2</th>\n",
       "      <th>Social_3</th>\n",
       "      <th>Healthcare_1</th>\n",
       "      <th>Helthcare_2</th>\n",
       "      <th>Shops_1</th>\n",
       "      <th>Shops_2</th>\n",
       "      <th>Price</th>\n",
       "    </tr>\n",
       "  </thead>\n",
       "  <tbody>\n",
       "    <tr>\n",
       "      <th>count</th>\n",
       "      <td>10000.00000</td>\n",
       "      <td>10000.000000</td>\n",
       "      <td>10000.000000</td>\n",
       "      <td>10000.000000</td>\n",
       "      <td>7887.000000</td>\n",
       "      <td>10000.000000</td>\n",
       "      <td>10000.000000</td>\n",
       "      <td>10000.000000</td>\n",
       "      <td>1.000000e+04</td>\n",
       "      <td>10000.000000</td>\n",
       "      <td>10000</td>\n",
       "      <td>10000</td>\n",
       "      <td>10000.000000</td>\n",
       "      <td>10000.000000</td>\n",
       "      <td>10000.000000</td>\n",
       "      <td>5202.000000</td>\n",
       "      <td>10000.000000</td>\n",
       "      <td>10000.000000</td>\n",
       "      <td>10000</td>\n",
       "      <td>10000.000000</td>\n",
       "    </tr>\n",
       "    <tr>\n",
       "      <th>unique</th>\n",
       "      <td>NaN</td>\n",
       "      <td>NaN</td>\n",
       "      <td>NaN</td>\n",
       "      <td>NaN</td>\n",
       "      <td>NaN</td>\n",
       "      <td>NaN</td>\n",
       "      <td>NaN</td>\n",
       "      <td>NaN</td>\n",
       "      <td>NaN</td>\n",
       "      <td>NaN</td>\n",
       "      <td>2</td>\n",
       "      <td>2</td>\n",
       "      <td>NaN</td>\n",
       "      <td>NaN</td>\n",
       "      <td>NaN</td>\n",
       "      <td>NaN</td>\n",
       "      <td>NaN</td>\n",
       "      <td>NaN</td>\n",
       "      <td>2</td>\n",
       "      <td>NaN</td>\n",
       "    </tr>\n",
       "    <tr>\n",
       "      <th>top</th>\n",
       "      <td>NaN</td>\n",
       "      <td>NaN</td>\n",
       "      <td>NaN</td>\n",
       "      <td>NaN</td>\n",
       "      <td>NaN</td>\n",
       "      <td>NaN</td>\n",
       "      <td>NaN</td>\n",
       "      <td>NaN</td>\n",
       "      <td>NaN</td>\n",
       "      <td>NaN</td>\n",
       "      <td>B</td>\n",
       "      <td>B</td>\n",
       "      <td>NaN</td>\n",
       "      <td>NaN</td>\n",
       "      <td>NaN</td>\n",
       "      <td>NaN</td>\n",
       "      <td>NaN</td>\n",
       "      <td>NaN</td>\n",
       "      <td>B</td>\n",
       "      <td>NaN</td>\n",
       "    </tr>\n",
       "    <tr>\n",
       "      <th>freq</th>\n",
       "      <td>NaN</td>\n",
       "      <td>NaN</td>\n",
       "      <td>NaN</td>\n",
       "      <td>NaN</td>\n",
       "      <td>NaN</td>\n",
       "      <td>NaN</td>\n",
       "      <td>NaN</td>\n",
       "      <td>NaN</td>\n",
       "      <td>NaN</td>\n",
       "      <td>NaN</td>\n",
       "      <td>9903</td>\n",
       "      <td>9725</td>\n",
       "      <td>NaN</td>\n",
       "      <td>NaN</td>\n",
       "      <td>NaN</td>\n",
       "      <td>NaN</td>\n",
       "      <td>NaN</td>\n",
       "      <td>NaN</td>\n",
       "      <td>9175</td>\n",
       "      <td>NaN</td>\n",
       "    </tr>\n",
       "    <tr>\n",
       "      <th>mean</th>\n",
       "      <td>8383.40770</td>\n",
       "      <td>50.400800</td>\n",
       "      <td>1.890500</td>\n",
       "      <td>56.315775</td>\n",
       "      <td>37.199645</td>\n",
       "      <td>6.273300</td>\n",
       "      <td>8.526700</td>\n",
       "      <td>12.609400</td>\n",
       "      <td>3.990166e+03</td>\n",
       "      <td>0.118858</td>\n",
       "      <td>NaN</td>\n",
       "      <td>NaN</td>\n",
       "      <td>24.687000</td>\n",
       "      <td>5352.157400</td>\n",
       "      <td>8.039200</td>\n",
       "      <td>1142.904460</td>\n",
       "      <td>1.319500</td>\n",
       "      <td>4.231300</td>\n",
       "      <td>NaN</td>\n",
       "      <td>214138.857399</td>\n",
       "    </tr>\n",
       "    <tr>\n",
       "      <th>std</th>\n",
       "      <td>4859.01902</td>\n",
       "      <td>43.587592</td>\n",
       "      <td>0.839512</td>\n",
       "      <td>21.058732</td>\n",
       "      <td>86.241209</td>\n",
       "      <td>28.560917</td>\n",
       "      <td>5.241148</td>\n",
       "      <td>6.775974</td>\n",
       "      <td>2.005003e+05</td>\n",
       "      <td>0.119025</td>\n",
       "      <td>NaN</td>\n",
       "      <td>NaN</td>\n",
       "      <td>17.532614</td>\n",
       "      <td>4006.799803</td>\n",
       "      <td>23.831875</td>\n",
       "      <td>1021.517264</td>\n",
       "      <td>1.493601</td>\n",
       "      <td>4.806341</td>\n",
       "      <td>NaN</td>\n",
       "      <td>92872.293865</td>\n",
       "    </tr>\n",
       "    <tr>\n",
       "      <th>min</th>\n",
       "      <td>0.00000</td>\n",
       "      <td>0.000000</td>\n",
       "      <td>0.000000</td>\n",
       "      <td>1.136859</td>\n",
       "      <td>0.370619</td>\n",
       "      <td>0.000000</td>\n",
       "      <td>1.000000</td>\n",
       "      <td>0.000000</td>\n",
       "      <td>1.910000e+03</td>\n",
       "      <td>0.000000</td>\n",
       "      <td>NaN</td>\n",
       "      <td>NaN</td>\n",
       "      <td>0.000000</td>\n",
       "      <td>168.000000</td>\n",
       "      <td>0.000000</td>\n",
       "      <td>0.000000</td>\n",
       "      <td>0.000000</td>\n",
       "      <td>0.000000</td>\n",
       "      <td>NaN</td>\n",
       "      <td>59174.778028</td>\n",
       "    </tr>\n",
       "    <tr>\n",
       "      <th>25%</th>\n",
       "      <td>4169.50000</td>\n",
       "      <td>20.000000</td>\n",
       "      <td>1.000000</td>\n",
       "      <td>41.774881</td>\n",
       "      <td>22.769832</td>\n",
       "      <td>1.000000</td>\n",
       "      <td>4.000000</td>\n",
       "      <td>9.000000</td>\n",
       "      <td>1.974000e+03</td>\n",
       "      <td>0.017647</td>\n",
       "      <td>NaN</td>\n",
       "      <td>NaN</td>\n",
       "      <td>6.000000</td>\n",
       "      <td>1564.000000</td>\n",
       "      <td>0.000000</td>\n",
       "      <td>350.000000</td>\n",
       "      <td>0.000000</td>\n",
       "      <td>1.000000</td>\n",
       "      <td>NaN</td>\n",
       "      <td>153872.633942</td>\n",
       "    </tr>\n",
       "    <tr>\n",
       "      <th>50%</th>\n",
       "      <td>8394.50000</td>\n",
       "      <td>36.000000</td>\n",
       "      <td>2.000000</td>\n",
       "      <td>52.513310</td>\n",
       "      <td>32.781260</td>\n",
       "      <td>6.000000</td>\n",
       "      <td>7.000000</td>\n",
       "      <td>13.000000</td>\n",
       "      <td>1.977000e+03</td>\n",
       "      <td>0.075424</td>\n",
       "      <td>NaN</td>\n",
       "      <td>NaN</td>\n",
       "      <td>25.000000</td>\n",
       "      <td>5285.000000</td>\n",
       "      <td>2.000000</td>\n",
       "      <td>900.000000</td>\n",
       "      <td>1.000000</td>\n",
       "      <td>3.000000</td>\n",
       "      <td>NaN</td>\n",
       "      <td>192269.644879</td>\n",
       "    </tr>\n",
       "    <tr>\n",
       "      <th>75%</th>\n",
       "      <td>12592.50000</td>\n",
       "      <td>75.000000</td>\n",
       "      <td>2.000000</td>\n",
       "      <td>65.900625</td>\n",
       "      <td>45.128803</td>\n",
       "      <td>9.000000</td>\n",
       "      <td>12.000000</td>\n",
       "      <td>17.000000</td>\n",
       "      <td>2.001000e+03</td>\n",
       "      <td>0.195781</td>\n",
       "      <td>NaN</td>\n",
       "      <td>NaN</td>\n",
       "      <td>36.000000</td>\n",
       "      <td>7227.000000</td>\n",
       "      <td>5.000000</td>\n",
       "      <td>1548.000000</td>\n",
       "      <td>2.000000</td>\n",
       "      <td>6.000000</td>\n",
       "      <td>NaN</td>\n",
       "      <td>249135.462171</td>\n",
       "    </tr>\n",
       "    <tr>\n",
       "      <th>max</th>\n",
       "      <td>16798.00000</td>\n",
       "      <td>209.000000</td>\n",
       "      <td>19.000000</td>\n",
       "      <td>641.065193</td>\n",
       "      <td>7480.592129</td>\n",
       "      <td>2014.000000</td>\n",
       "      <td>42.000000</td>\n",
       "      <td>117.000000</td>\n",
       "      <td>2.005201e+07</td>\n",
       "      <td>0.521867</td>\n",
       "      <td>NaN</td>\n",
       "      <td>NaN</td>\n",
       "      <td>74.000000</td>\n",
       "      <td>19083.000000</td>\n",
       "      <td>141.000000</td>\n",
       "      <td>4849.000000</td>\n",
       "      <td>6.000000</td>\n",
       "      <td>23.000000</td>\n",
       "      <td>NaN</td>\n",
       "      <td>633233.466570</td>\n",
       "    </tr>\n",
       "  </tbody>\n",
       "</table>\n",
       "</div>"
      ],
      "text/plain": [
       "                 Id    DistrictId         Rooms        Square   LifeSquare  \\\n",
       "count   10000.00000  10000.000000  10000.000000  10000.000000  7887.000000   \n",
       "unique          NaN           NaN           NaN           NaN          NaN   \n",
       "top             NaN           NaN           NaN           NaN          NaN   \n",
       "freq            NaN           NaN           NaN           NaN          NaN   \n",
       "mean     8383.40770     50.400800      1.890500     56.315775    37.199645   \n",
       "std      4859.01902     43.587592      0.839512     21.058732    86.241209   \n",
       "min         0.00000      0.000000      0.000000      1.136859     0.370619   \n",
       "25%      4169.50000     20.000000      1.000000     41.774881    22.769832   \n",
       "50%      8394.50000     36.000000      2.000000     52.513310    32.781260   \n",
       "75%     12592.50000     75.000000      2.000000     65.900625    45.128803   \n",
       "max     16798.00000    209.000000     19.000000    641.065193  7480.592129   \n",
       "\n",
       "        KitchenSquare         Floor    HouseFloor     HouseYear     Ecology_1  \\\n",
       "count    10000.000000  10000.000000  10000.000000  1.000000e+04  10000.000000   \n",
       "unique            NaN           NaN           NaN           NaN           NaN   \n",
       "top               NaN           NaN           NaN           NaN           NaN   \n",
       "freq              NaN           NaN           NaN           NaN           NaN   \n",
       "mean         6.273300      8.526700     12.609400  3.990166e+03      0.118858   \n",
       "std         28.560917      5.241148      6.775974  2.005003e+05      0.119025   \n",
       "min          0.000000      1.000000      0.000000  1.910000e+03      0.000000   \n",
       "25%          1.000000      4.000000      9.000000  1.974000e+03      0.017647   \n",
       "50%          6.000000      7.000000     13.000000  1.977000e+03      0.075424   \n",
       "75%          9.000000     12.000000     17.000000  2.001000e+03      0.195781   \n",
       "max       2014.000000     42.000000    117.000000  2.005201e+07      0.521867   \n",
       "\n",
       "       Ecology_2 Ecology_3      Social_1      Social_2      Social_3  \\\n",
       "count      10000     10000  10000.000000  10000.000000  10000.000000   \n",
       "unique         2         2           NaN           NaN           NaN   \n",
       "top            B         B           NaN           NaN           NaN   \n",
       "freq        9903      9725           NaN           NaN           NaN   \n",
       "mean         NaN       NaN     24.687000   5352.157400      8.039200   \n",
       "std          NaN       NaN     17.532614   4006.799803     23.831875   \n",
       "min          NaN       NaN      0.000000    168.000000      0.000000   \n",
       "25%          NaN       NaN      6.000000   1564.000000      0.000000   \n",
       "50%          NaN       NaN     25.000000   5285.000000      2.000000   \n",
       "75%          NaN       NaN     36.000000   7227.000000      5.000000   \n",
       "max          NaN       NaN     74.000000  19083.000000    141.000000   \n",
       "\n",
       "        Healthcare_1   Helthcare_2       Shops_1 Shops_2          Price  \n",
       "count    5202.000000  10000.000000  10000.000000   10000   10000.000000  \n",
       "unique           NaN           NaN           NaN       2            NaN  \n",
       "top              NaN           NaN           NaN       B            NaN  \n",
       "freq             NaN           NaN           NaN    9175            NaN  \n",
       "mean     1142.904460      1.319500      4.231300     NaN  214138.857399  \n",
       "std      1021.517264      1.493601      4.806341     NaN   92872.293865  \n",
       "min         0.000000      0.000000      0.000000     NaN   59174.778028  \n",
       "25%       350.000000      0.000000      1.000000     NaN  153872.633942  \n",
       "50%       900.000000      1.000000      3.000000     NaN  192269.644879  \n",
       "75%      1548.000000      2.000000      6.000000     NaN  249135.462171  \n",
       "max      4849.000000      6.000000     23.000000     NaN  633233.466570  "
      ]
     },
     "execution_count": 6,
     "metadata": {},
     "output_type": "execute_result"
    }
   ],
   "source": [
    "df_train.describe(include='all')"
   ]
  },
  {
   "cell_type": "markdown",
   "id": "bad9f738-7968-4a5a-a9c2-03443a24b2d8",
   "metadata": {},
   "source": [
    "## Приведение типов\n",
    " "
   ]
  },
  {
   "cell_type": "markdown",
   "id": "577e08b9-1f4a-49dd-824c-4176f92f76df",
   "metadata": {},
   "source": [
    "В столбцах Id, DistrictId тип данных - *int64*. \n",
    "\n",
    "Так как эти данные не имеет смысла сравнивать математически - приведем их к типу *str*."
   ]
  },
  {
   "cell_type": "code",
   "execution_count": 7,
   "id": "2daf0547-eb98-4c73-b7a9-c6a47c88331d",
   "metadata": {},
   "outputs": [],
   "source": [
    "df_train['Id'] = df_train['Id'].astype(str)\n",
    "df_train['DistrictId'] = df_train['DistrictId'].astype(str)"
   ]
  },
  {
   "cell_type": "markdown",
   "id": "a8ecf692-e47f-4e39-b1f4-adeb94d4545f",
   "metadata": {},
   "source": [
    "# 2. Базовое решение"
   ]
  },
  {
   "cell_type": "markdown",
   "id": "52184be6-60f1-4861-9ac1-7de3f8494b50",
   "metadata": {},
   "source": [
    "Посчитаем нашу метрику на почти необработанных данных. \n",
    "\n",
    "Всего лишь заполним пропуски медианой и избавимся от грубых выбросов "
   ]
  },
  {
   "cell_type": "markdown",
   "id": "31cd9cca-1164-47cb-a2e1-b35c74ae11e2",
   "metadata": {},
   "source": [
    "## Заполняем пропуски"
   ]
  },
  {
   "cell_type": "code",
   "execution_count": 8,
   "id": "c53dabf6-00f3-485c-aafb-0835d6f4cd17",
   "metadata": {},
   "outputs": [
    {
     "data": {
      "text/plain": [
       "False    7887\n",
       "True     2113\n",
       "Name: LifeSquare, dtype: int64"
      ]
     },
     "execution_count": 8,
     "metadata": {},
     "output_type": "execute_result"
    }
   ],
   "source": [
    "ls_condition = df_train['LifeSquare'].isna()\n",
    "ls_condition.value_counts()"
   ]
  },
  {
   "cell_type": "code",
   "execution_count": 9,
   "id": "29072a6e-94e4-4183-81c4-0ec5a8a06520",
   "metadata": {},
   "outputs": [
    {
     "data": {
      "text/plain": [
       "False    5202\n",
       "True     4798\n",
       "Name: Healthcare_1, dtype: int64"
      ]
     },
     "execution_count": 9,
     "metadata": {},
     "output_type": "execute_result"
    }
   ],
   "source": [
    "h1_condition = df_train['Healthcare_1'].isna()\n",
    "h1_condition.value_counts()"
   ]
  },
  {
   "cell_type": "markdown",
   "id": "45d8a81a-7724-409d-8cb7-fe274f0abb3b",
   "metadata": {},
   "source": [
    "В столбце LifeSquare у нас 2113 пропусков. Заменим их медианой."
   ]
  },
  {
   "cell_type": "markdown",
   "id": "c2a203b6-e20f-4cd7-9818-6e9ad14bc555",
   "metadata": {},
   "source": [
    "В столбце Healthcare_1 у нас 4798 пропусков. Заменим их медианой."
   ]
  },
  {
   "cell_type": "code",
   "execution_count": 10,
   "id": "9b5300e8-f2f8-4acd-9a3d-3ef8099e926a",
   "metadata": {},
   "outputs": [
    {
     "name": "stdout",
     "output_type": "stream",
     "text": [
      "32.78\n"
     ]
    }
   ],
   "source": [
    "ls_med = df_train[\"LifeSquare\"].median().round(2)\n",
    "print(ls_med)"
   ]
  },
  {
   "cell_type": "code",
   "execution_count": 11,
   "id": "ee011995-3535-4585-b6fd-7eab859ff04c",
   "metadata": {},
   "outputs": [
    {
     "name": "stdout",
     "output_type": "stream",
     "text": [
      "900.0\n"
     ]
    }
   ],
   "source": [
    "h1_med = df_train[\"Healthcare_1\"].median().round(2)\n",
    "print(h1_med)"
   ]
  },
  {
   "cell_type": "code",
   "execution_count": 12,
   "id": "8aaae088-9f88-4e00-914b-3fdcaee1ad61",
   "metadata": {},
   "outputs": [],
   "source": [
    "df_train.loc[ls_condition, 'LifeSquare'] = ls_med\n",
    "df_train.loc[h1_condition, 'Healthcare_1'] = h1_med"
   ]
  },
  {
   "cell_type": "code",
   "execution_count": 13,
   "id": "2333bb29-5204-4df7-b170-463d636307f9",
   "metadata": {},
   "outputs": [
    {
     "name": "stdout",
     "output_type": "stream",
     "text": [
      "<class 'pandas.core.frame.DataFrame'>\n",
      "RangeIndex: 10000 entries, 0 to 9999\n",
      "Data columns (total 20 columns):\n",
      " #   Column         Non-Null Count  Dtype  \n",
      "---  ------         --------------  -----  \n",
      " 0   Id             10000 non-null  object \n",
      " 1   DistrictId     10000 non-null  object \n",
      " 2   Rooms          10000 non-null  float64\n",
      " 3   Square         10000 non-null  float64\n",
      " 4   LifeSquare     10000 non-null  float64\n",
      " 5   KitchenSquare  10000 non-null  float64\n",
      " 6   Floor          10000 non-null  int64  \n",
      " 7   HouseFloor     10000 non-null  float64\n",
      " 8   HouseYear      10000 non-null  int64  \n",
      " 9   Ecology_1      10000 non-null  float64\n",
      " 10  Ecology_2      10000 non-null  object \n",
      " 11  Ecology_3      10000 non-null  object \n",
      " 12  Social_1       10000 non-null  int64  \n",
      " 13  Social_2       10000 non-null  int64  \n",
      " 14  Social_3       10000 non-null  int64  \n",
      " 15  Healthcare_1   10000 non-null  float64\n",
      " 16  Helthcare_2    10000 non-null  int64  \n",
      " 17  Shops_1        10000 non-null  int64  \n",
      " 18  Shops_2        10000 non-null  object \n",
      " 19  Price          10000 non-null  float64\n",
      "dtypes: float64(8), int64(7), object(5)\n",
      "memory usage: 1.5+ MB\n"
     ]
    }
   ],
   "source": [
    "df_train.info()"
   ]
  },
  {
   "cell_type": "markdown",
   "id": "f970b078-520d-4898-94a6-f5b49b6be590",
   "metadata": {},
   "source": [
    "## Избавляемся от выбросов "
   ]
  },
  {
   "cell_type": "code",
   "execution_count": 17,
   "id": "2c95fc2d-0c2b-4743-be54-ce7807867181",
   "metadata": {
    "collapsed": true,
    "jupyter": {
     "outputs_hidden": true
    },
    "tags": []
   },
   "outputs": [
    {
     "name": "stdout",
     "output_type": "stream",
     "text": [
      "Id\n",
      "13067    1\n",
      "3636     1\n",
      "11262    1\n",
      "2173     1\n",
      "2019     1\n",
      "        ..\n",
      "13703    1\n",
      "15300    1\n",
      "9150     1\n",
      "7651     1\n",
      "13351    1\n",
      "Name: Id, Length: 10000, dtype: int64\n",
      "--------------------------------------------------\n",
      "\n",
      "DistrictId\n",
      "27     851\n",
      "1      652\n",
      "23     565\n",
      "6      511\n",
      "9      294\n",
      "      ... \n",
      "117      1\n",
      "199      1\n",
      "196      1\n",
      "205      1\n",
      "209      1\n",
      "Name: DistrictId, Length: 205, dtype: int64\n",
      "--------------------------------------------------\n",
      "\n",
      "Rooms\n",
      "2.0     3880\n",
      "1.0     3705\n",
      "3.0     2235\n",
      "4.0      150\n",
      "5.0       18\n",
      "0.0        8\n",
      "10.0       2\n",
      "6.0        1\n",
      "19.0       1\n",
      "Name: Rooms, dtype: int64\n",
      "--------------------------------------------------\n",
      "\n",
      "Square\n",
      "52.327165    1\n",
      "34.785487    1\n",
      "45.823093    1\n",
      "57.607965    1\n",
      "57.925603    1\n",
      "            ..\n",
      "60.776683    1\n",
      "72.956943    1\n",
      "51.770111    1\n",
      "41.843220    1\n",
      "64.226361    1\n",
      "Name: Square, Length: 10000, dtype: int64\n",
      "--------------------------------------------------\n",
      "\n",
      "LifeSquare\n",
      "32.780000    2113\n",
      "20.151696       1\n",
      "22.922376       1\n",
      "23.884805       1\n",
      "51.826876       1\n",
      "             ... \n",
      "45.455722       1\n",
      "50.458505       1\n",
      "42.172028       1\n",
      "21.993610       1\n",
      "27.598712       1\n",
      "Name: LifeSquare, Length: 7888, dtype: int64\n",
      "--------------------------------------------------\n",
      "\n",
      "KitchenSquare\n",
      "1.0       2460\n",
      "8.0       1306\n",
      "5.0       1169\n",
      "10.0      1075\n",
      "6.0       1038\n",
      "9.0        843\n",
      "0.0        697\n",
      "7.0        609\n",
      "12.0       249\n",
      "11.0       233\n",
      "13.0        67\n",
      "14.0        51\n",
      "4.0         39\n",
      "15.0        31\n",
      "3.0         22\n",
      "16.0        16\n",
      "20.0        14\n",
      "17.0        12\n",
      "19.0        11\n",
      "18.0         6\n",
      "2.0          4\n",
      "22.0         3\n",
      "112.0        2\n",
      "51.0         2\n",
      "58.0         2\n",
      "37.0         2\n",
      "32.0         2\n",
      "41.0         2\n",
      "43.0         2\n",
      "30.0         2\n",
      "25.0         2\n",
      "39.0         1\n",
      "23.0         1\n",
      "123.0        1\n",
      "40.0         1\n",
      "48.0         1\n",
      "21.0         1\n",
      "72.0         1\n",
      "27.0         1\n",
      "63.0         1\n",
      "1970.0       1\n",
      "29.0         1\n",
      "66.0         1\n",
      "2014.0       1\n",
      "31.0         1\n",
      "78.0         1\n",
      "35.0         1\n",
      "42.0         1\n",
      "73.0         1\n",
      "60.0         1\n",
      "84.0         1\n",
      "26.0         1\n",
      "54.0         1\n",
      "36.0         1\n",
      "53.0         1\n",
      "96.0         1\n",
      "62.0         1\n",
      "75.0         1\n",
      "Name: KitchenSquare, dtype: int64\n",
      "--------------------------------------------------\n",
      "\n",
      "Floor\n",
      "4     949\n",
      "5     876\n",
      "3     872\n",
      "6     802\n",
      "7     759\n",
      "8     643\n",
      "9     604\n",
      "2     588\n",
      "10    553\n",
      "11    457\n",
      "12    438\n",
      "13    398\n",
      "14    362\n",
      "16    290\n",
      "15    287\n",
      "17    256\n",
      "1     235\n",
      "18    185\n",
      "19    121\n",
      "20     68\n",
      "21     59\n",
      "22     54\n",
      "24     53\n",
      "25     34\n",
      "23     25\n",
      "26     18\n",
      "27      5\n",
      "28      3\n",
      "32      2\n",
      "42      1\n",
      "37      1\n",
      "33      1\n",
      "31      1\n",
      "Name: Floor, dtype: int64\n",
      "--------------------------------------------------\n",
      "\n",
      "HouseFloor\n",
      "17.0     2331\n",
      "9.0      1389\n",
      "12.0     1074\n",
      "5.0      1031\n",
      "14.0      625\n",
      "16.0      576\n",
      "1.0       497\n",
      "25.0      374\n",
      "22.0      343\n",
      "0.0       269\n",
      "24.0      176\n",
      "8.0       141\n",
      "10.0      135\n",
      "4.0       134\n",
      "3.0       127\n",
      "15.0      123\n",
      "19.0      108\n",
      "20.0      105\n",
      "18.0       89\n",
      "7.0        59\n",
      "6.0        58\n",
      "2.0        48\n",
      "23.0       40\n",
      "21.0       33\n",
      "11.0       28\n",
      "13.0       27\n",
      "30.0       21\n",
      "40.0        7\n",
      "27.0        6\n",
      "37.0        4\n",
      "32.0        4\n",
      "28.0        3\n",
      "39.0        2\n",
      "48.0        2\n",
      "99.0        2\n",
      "29.0        1\n",
      "44.0        1\n",
      "47.0        1\n",
      "36.0        1\n",
      "31.0        1\n",
      "38.0        1\n",
      "117.0       1\n",
      "45.0        1\n",
      "26.0        1\n",
      "Name: HouseFloor, dtype: int64\n",
      "--------------------------------------------------\n",
      "\n",
      "HouseYear\n",
      "1977        2652\n",
      "2017         308\n",
      "2016         305\n",
      "2015         299\n",
      "2014         210\n",
      "            ... \n",
      "1928           1\n",
      "1947           1\n",
      "1914           1\n",
      "4968           1\n",
      "20052011       1\n",
      "Name: HouseYear, Length: 97, dtype: int64\n",
      "--------------------------------------------------\n",
      "\n",
      "Ecology_1\n",
      "0.007122    587\n",
      "0.000000    537\n",
      "0.243205    511\n",
      "0.072158    486\n",
      "0.075779    346\n",
      "           ... \n",
      "0.386772      6\n",
      "0.011320      3\n",
      "0.394094      2\n",
      "0.014334      1\n",
      "0.012522      1\n",
      "Name: Ecology_1, Length: 129, dtype: int64\n",
      "--------------------------------------------------\n",
      "\n",
      "Ecology_2\n",
      "B    9903\n",
      "A      97\n",
      "Name: Ecology_2, dtype: int64\n",
      "--------------------------------------------------\n",
      "\n",
      "Ecology_3\n",
      "B    9725\n",
      "A     275\n",
      "Name: Ecology_3, dtype: int64\n",
      "--------------------------------------------------\n",
      "\n",
      "Social_1\n",
      "2     688\n",
      "1     654\n",
      "25    557\n",
      "5     528\n",
      "30    465\n",
      "23    434\n",
      "6     377\n",
      "22    367\n",
      "53    355\n",
      "34    311\n",
      "33    252\n",
      "46    245\n",
      "31    243\n",
      "43    238\n",
      "9     213\n",
      "36    209\n",
      "21    207\n",
      "37    205\n",
      "24    205\n",
      "52    201\n",
      "0     201\n",
      "35    200\n",
      "47    177\n",
      "74    176\n",
      "39    159\n",
      "27    151\n",
      "28    144\n",
      "4     141\n",
      "11    138\n",
      "42    129\n",
      "26    127\n",
      "16    123\n",
      "19    118\n",
      "66     99\n",
      "17     96\n",
      "49     95\n",
      "18     92\n",
      "32     87\n",
      "41     83\n",
      "50     79\n",
      "29     70\n",
      "38     64\n",
      "8      62\n",
      "15     51\n",
      "20     50\n",
      "14     46\n",
      "10     24\n",
      "13     22\n",
      "12     18\n",
      "7      15\n",
      "3       9\n",
      "Name: Social_1, dtype: int64\n",
      "--------------------------------------------------\n",
      "\n",
      "Social_2\n",
      "264     587\n",
      "1564    511\n",
      "629     486\n",
      "1437    346\n",
      "6398    245\n",
      "       ... \n",
      "1423      3\n",
      "568       3\n",
      "662       2\n",
      "507       1\n",
      "528       1\n",
      "Name: Social_2, Length: 142, dtype: int64\n",
      "--------------------------------------------------\n",
      "\n",
      "Social_3\n",
      "0      2997\n",
      "1      1861\n",
      "3      1136\n",
      "4       835\n",
      "2       635\n",
      "6       423\n",
      "5       391\n",
      "141     245\n",
      "9       192\n",
      "7       184\n",
      "11      172\n",
      "8       170\n",
      "10      142\n",
      "16      101\n",
      "14       97\n",
      "27       59\n",
      "48       58\n",
      "56       49\n",
      "84       43\n",
      "24       37\n",
      "87       27\n",
      "93       25\n",
      "59       25\n",
      "19       22\n",
      "20       19\n",
      "23       18\n",
      "39       15\n",
      "73       10\n",
      "45        9\n",
      "37        3\n",
      "Name: Social_3, dtype: int64\n",
      "--------------------------------------------------\n",
      "\n",
      "Healthcare_1\n",
      "900.0     4869\n",
      "540.0      511\n",
      "30.0       348\n",
      "1046.0     245\n",
      "750.0      163\n",
      "          ... \n",
      "370.0       14\n",
      "32.0        12\n",
      "1815.0      10\n",
      "35.0         2\n",
      "0.0          1\n",
      "Name: Healthcare_1, Length: 79, dtype: int64\n",
      "--------------------------------------------------\n",
      "\n",
      "Helthcare_2\n",
      "0    4214\n",
      "1    2183\n",
      "3    1670\n",
      "2    1158\n",
      "5     388\n",
      "4     288\n",
      "6      99\n",
      "Name: Helthcare_2, dtype: int64\n",
      "--------------------------------------------------\n",
      "\n",
      "Shops_1\n",
      "0     2316\n",
      "1     1325\n",
      "5     1324\n",
      "2      964\n",
      "4      841\n",
      "3      711\n",
      "6      487\n",
      "11     401\n",
      "9      316\n",
      "7      294\n",
      "8      253\n",
      "23     245\n",
      "10     215\n",
      "15     176\n",
      "16      83\n",
      "19      49\n",
      "Name: Shops_1, dtype: int64\n",
      "--------------------------------------------------\n",
      "\n",
      "Shops_2\n",
      "B    9175\n",
      "A     825\n",
      "Name: Shops_2, dtype: int64\n",
      "--------------------------------------------------\n",
      "\n",
      "Price\n",
      "232830.798767    1\n",
      "111207.565421    1\n",
      "108638.637214    1\n",
      "188774.351894    1\n",
      "244256.756548    1\n",
      "                ..\n",
      "263208.540162    1\n",
      "190550.982049    1\n",
      "259715.099993    1\n",
      "259358.658002    1\n",
      "166975.682285    1\n",
      "Name: Price, Length: 10000, dtype: int64\n",
      "--------------------------------------------------\n",
      "\n"
     ]
    }
   ],
   "source": [
    "for i in df_train.columns:\n",
    "    print(f'{i}\\n{df_train[i].value_counts()}\\n{\"-\"*50}')\n",
    "    print()"
   ]
  },
  {
   "cell_type": "markdown",
   "id": "792a5c09-0e3a-4f9c-bfd1-930149d9084e",
   "metadata": {},
   "source": [
    "**Rooms** Заменим 0 на 1, а 19 на 10."
   ]
  },
  {
   "cell_type": "code",
   "execution_count": 19,
   "id": "7a0b74ed-7802-49e6-8407-6ec3f13bb9a4",
   "metadata": {},
   "outputs": [
    {
     "data": {
      "text/plain": [
       "2.0     3880\n",
       "1.0     3713\n",
       "3.0     2235\n",
       "4.0      150\n",
       "5.0       18\n",
       "10.0       3\n",
       "6.0        1\n",
       "Name: Rooms, dtype: int64"
      ]
     },
     "execution_count": 19,
     "metadata": {},
     "output_type": "execute_result"
    }
   ],
   "source": [
    "df_train.loc[df_train['Rooms'] == 0, 'Rooms'] = 1\n",
    "df_train.loc[df_train['Rooms'] == 19, 'Rooms'] = 10\n",
    "df_train['Rooms'].value_counts()"
   ]
  },
  {
   "cell_type": "markdown",
   "id": "fba9163b-74e3-45d0-be9c-209715694422",
   "metadata": {},
   "source": [
    "**Square** Заменим все что меньше 10 на 10, все что больше 250 на 250."
   ]
  },
  {
   "cell_type": "code",
   "execution_count": 20,
   "id": "a8607932-9aea-488e-853e-82a76e32619a",
   "metadata": {},
   "outputs": [],
   "source": [
    "df_train.loc[df_train['Square'] < 10, 'Square'] = 10\n",
    "df_train.loc[df_train['Square'] > 250, 'Square'] = 250"
   ]
  },
  {
   "cell_type": "markdown",
   "id": "4132cce7-5679-4fda-9225-1cf525f0ee53",
   "metadata": {},
   "source": [
    "Примерно тоже самое сделаем для **LifeSquare** и **KitchenSquare**"
   ]
  },
  {
   "cell_type": "code",
   "execution_count": 21,
   "id": "97e72a13-3205-48f9-ab1e-fd2e620f2c76",
   "metadata": {},
   "outputs": [],
   "source": [
    "df_train.loc[df_train['LifeSquare'] < 5, 'LifeSquare'] = 5\n",
    "df_train.loc[df_train['LifeSquare'] > 250, 'LifeSquare'] = 250\n",
    "\n",
    "df_train.loc[df_train['KitchenSquare'] < 2, 'KitchenSquare'] = 2\n",
    "df_train.loc[df_train['KitchenSquare'] > 100, 'KitchenSquare'] = 100"
   ]
  },
  {
   "cell_type": "markdown",
   "id": "5e09b28f-10e7-4e1f-a6cc-fc2da9629c1c",
   "metadata": {},
   "source": [
    "**HouseYear** тоже немного поправим"
   ]
  },
  {
   "cell_type": "code",
   "execution_count": 24,
   "id": "42b05c26-8ba7-4bb1-b63b-e7b0a90eab7b",
   "metadata": {},
   "outputs": [],
   "source": [
    "df_train.loc[df_train['HouseYear'] < 1941, 'HouseYear'] = 1941\n",
    "df_train.loc[df_train['HouseYear'] > 2021, 'HouseYear'] = 2021"
   ]
  },
  {
   "cell_type": "markdown",
   "id": "4937b94e-5512-4bdb-9439-26b50824f5db",
   "metadata": {},
   "source": [
    "В столбцах **Ecology_2**, **Ecology_3** и **Shops_2** поменяем 'B' и 'A' на 1 и 0"
   ]
  },
  {
   "cell_type": "code",
   "execution_count": 33,
   "id": "e6c49a0c-492c-4b2e-ab7c-d922ab5039bb",
   "metadata": {},
   "outputs": [],
   "source": [
    "df_train.loc[df_train['Ecology_2'] == 'B', 'Ecology_2'] = 1\n",
    "df_train.loc[df_train['Ecology_2'] == 'A', 'Ecology_2'] = 0\n",
    "\n",
    "df_train.loc[df_train['Ecology_3'] == 'B', 'Ecology_3'] = 1\n",
    "df_train.loc[df_train['Ecology_3'] == 'A', 'Ecology_3'] = 0\n",
    "\n",
    "df_train.loc[df_train['Shops_2'] == 'B', 'Shops_2'] = 1\n",
    "df_train.loc[df_train['Shops_2'] == 'A', 'Shops_2'] = 0"
   ]
  },
  {
   "cell_type": "code",
   "execution_count": 34,
   "id": "80ed04cf-926a-45e3-bfad-b10ae5700ec0",
   "metadata": {},
   "outputs": [
    {
     "data": {
      "text/html": [
       "<div>\n",
       "<style scoped>\n",
       "    .dataframe tbody tr th:only-of-type {\n",
       "        vertical-align: middle;\n",
       "    }\n",
       "\n",
       "    .dataframe tbody tr th {\n",
       "        vertical-align: top;\n",
       "    }\n",
       "\n",
       "    .dataframe thead th {\n",
       "        text-align: right;\n",
       "    }\n",
       "</style>\n",
       "<table border=\"1\" class=\"dataframe\">\n",
       "  <thead>\n",
       "    <tr style=\"text-align: right;\">\n",
       "      <th></th>\n",
       "      <th>Id</th>\n",
       "      <th>DistrictId</th>\n",
       "      <th>Rooms</th>\n",
       "      <th>Square</th>\n",
       "      <th>LifeSquare</th>\n",
       "      <th>KitchenSquare</th>\n",
       "      <th>Floor</th>\n",
       "      <th>HouseFloor</th>\n",
       "      <th>HouseYear</th>\n",
       "      <th>Ecology_1</th>\n",
       "      <th>Ecology_2</th>\n",
       "      <th>Ecology_3</th>\n",
       "      <th>Social_1</th>\n",
       "      <th>Social_2</th>\n",
       "      <th>Social_3</th>\n",
       "      <th>Healthcare_1</th>\n",
       "      <th>Helthcare_2</th>\n",
       "      <th>Shops_1</th>\n",
       "      <th>Shops_2</th>\n",
       "      <th>Price</th>\n",
       "    </tr>\n",
       "  </thead>\n",
       "  <tbody>\n",
       "    <tr>\n",
       "      <th>count</th>\n",
       "      <td>10000</td>\n",
       "      <td>10000</td>\n",
       "      <td>10000.000000</td>\n",
       "      <td>10000.000000</td>\n",
       "      <td>10000.000000</td>\n",
       "      <td>10000.000000</td>\n",
       "      <td>10000.000000</td>\n",
       "      <td>10000.000000</td>\n",
       "      <td>10000.000000</td>\n",
       "      <td>10000.000000</td>\n",
       "      <td>10000.0</td>\n",
       "      <td>10000.0</td>\n",
       "      <td>10000.000000</td>\n",
       "      <td>10000.000000</td>\n",
       "      <td>10000.000000</td>\n",
       "      <td>10000.000000</td>\n",
       "      <td>10000.000000</td>\n",
       "      <td>10000.000000</td>\n",
       "      <td>10000.0</td>\n",
       "      <td>10000.000000</td>\n",
       "    </tr>\n",
       "    <tr>\n",
       "      <th>unique</th>\n",
       "      <td>10000</td>\n",
       "      <td>205</td>\n",
       "      <td>NaN</td>\n",
       "      <td>NaN</td>\n",
       "      <td>NaN</td>\n",
       "      <td>NaN</td>\n",
       "      <td>NaN</td>\n",
       "      <td>NaN</td>\n",
       "      <td>NaN</td>\n",
       "      <td>NaN</td>\n",
       "      <td>2.0</td>\n",
       "      <td>2.0</td>\n",
       "      <td>NaN</td>\n",
       "      <td>NaN</td>\n",
       "      <td>NaN</td>\n",
       "      <td>NaN</td>\n",
       "      <td>NaN</td>\n",
       "      <td>NaN</td>\n",
       "      <td>2.0</td>\n",
       "      <td>NaN</td>\n",
       "    </tr>\n",
       "    <tr>\n",
       "      <th>top</th>\n",
       "      <td>13067</td>\n",
       "      <td>27</td>\n",
       "      <td>NaN</td>\n",
       "      <td>NaN</td>\n",
       "      <td>NaN</td>\n",
       "      <td>NaN</td>\n",
       "      <td>NaN</td>\n",
       "      <td>NaN</td>\n",
       "      <td>NaN</td>\n",
       "      <td>NaN</td>\n",
       "      <td>1.0</td>\n",
       "      <td>1.0</td>\n",
       "      <td>NaN</td>\n",
       "      <td>NaN</td>\n",
       "      <td>NaN</td>\n",
       "      <td>NaN</td>\n",
       "      <td>NaN</td>\n",
       "      <td>NaN</td>\n",
       "      <td>1.0</td>\n",
       "      <td>NaN</td>\n",
       "    </tr>\n",
       "    <tr>\n",
       "      <th>freq</th>\n",
       "      <td>1</td>\n",
       "      <td>851</td>\n",
       "      <td>NaN</td>\n",
       "      <td>NaN</td>\n",
       "      <td>NaN</td>\n",
       "      <td>NaN</td>\n",
       "      <td>NaN</td>\n",
       "      <td>NaN</td>\n",
       "      <td>NaN</td>\n",
       "      <td>NaN</td>\n",
       "      <td>9903.0</td>\n",
       "      <td>9725.0</td>\n",
       "      <td>NaN</td>\n",
       "      <td>NaN</td>\n",
       "      <td>NaN</td>\n",
       "      <td>NaN</td>\n",
       "      <td>NaN</td>\n",
       "      <td>NaN</td>\n",
       "      <td>9175.0</td>\n",
       "      <td>NaN</td>\n",
       "    </tr>\n",
       "    <tr>\n",
       "      <th>mean</th>\n",
       "      <td>NaN</td>\n",
       "      <td>NaN</td>\n",
       "      <td>1.890400</td>\n",
       "      <td>56.230250</td>\n",
       "      <td>35.498879</td>\n",
       "      <td>6.275600</td>\n",
       "      <td>8.526700</td>\n",
       "      <td>12.609400</td>\n",
       "      <td>1984.945100</td>\n",
       "      <td>0.118858</td>\n",
       "      <td>NaN</td>\n",
       "      <td>NaN</td>\n",
       "      <td>24.687000</td>\n",
       "      <td>5352.157400</td>\n",
       "      <td>8.039200</td>\n",
       "      <td>1026.358900</td>\n",
       "      <td>1.319500</td>\n",
       "      <td>4.231300</td>\n",
       "      <td>NaN</td>\n",
       "      <td>214138.857399</td>\n",
       "    </tr>\n",
       "    <tr>\n",
       "      <th>std</th>\n",
       "      <td>NaN</td>\n",
       "      <td>NaN</td>\n",
       "      <td>0.824534</td>\n",
       "      <td>19.395000</td>\n",
       "      <td>16.531925</td>\n",
       "      <td>4.889114</td>\n",
       "      <td>5.241148</td>\n",
       "      <td>6.775974</td>\n",
       "      <td>18.208774</td>\n",
       "      <td>0.119025</td>\n",
       "      <td>NaN</td>\n",
       "      <td>NaN</td>\n",
       "      <td>17.532614</td>\n",
       "      <td>4006.799803</td>\n",
       "      <td>23.831875</td>\n",
       "      <td>746.662828</td>\n",
       "      <td>1.493601</td>\n",
       "      <td>4.806341</td>\n",
       "      <td>NaN</td>\n",
       "      <td>92872.293865</td>\n",
       "    </tr>\n",
       "    <tr>\n",
       "      <th>min</th>\n",
       "      <td>NaN</td>\n",
       "      <td>NaN</td>\n",
       "      <td>1.000000</td>\n",
       "      <td>10.000000</td>\n",
       "      <td>5.000000</td>\n",
       "      <td>2.000000</td>\n",
       "      <td>1.000000</td>\n",
       "      <td>0.000000</td>\n",
       "      <td>1941.000000</td>\n",
       "      <td>0.000000</td>\n",
       "      <td>NaN</td>\n",
       "      <td>NaN</td>\n",
       "      <td>0.000000</td>\n",
       "      <td>168.000000</td>\n",
       "      <td>0.000000</td>\n",
       "      <td>0.000000</td>\n",
       "      <td>0.000000</td>\n",
       "      <td>0.000000</td>\n",
       "      <td>NaN</td>\n",
       "      <td>59174.778028</td>\n",
       "    </tr>\n",
       "    <tr>\n",
       "      <th>25%</th>\n",
       "      <td>NaN</td>\n",
       "      <td>NaN</td>\n",
       "      <td>1.000000</td>\n",
       "      <td>41.774881</td>\n",
       "      <td>25.527399</td>\n",
       "      <td>2.000000</td>\n",
       "      <td>4.000000</td>\n",
       "      <td>9.000000</td>\n",
       "      <td>1974.000000</td>\n",
       "      <td>0.017647</td>\n",
       "      <td>NaN</td>\n",
       "      <td>NaN</td>\n",
       "      <td>6.000000</td>\n",
       "      <td>1564.000000</td>\n",
       "      <td>0.000000</td>\n",
       "      <td>830.000000</td>\n",
       "      <td>0.000000</td>\n",
       "      <td>1.000000</td>\n",
       "      <td>NaN</td>\n",
       "      <td>153872.633942</td>\n",
       "    </tr>\n",
       "    <tr>\n",
       "      <th>50%</th>\n",
       "      <td>NaN</td>\n",
       "      <td>NaN</td>\n",
       "      <td>2.000000</td>\n",
       "      <td>52.513310</td>\n",
       "      <td>32.780000</td>\n",
       "      <td>6.000000</td>\n",
       "      <td>7.000000</td>\n",
       "      <td>13.000000</td>\n",
       "      <td>1977.000000</td>\n",
       "      <td>0.075424</td>\n",
       "      <td>NaN</td>\n",
       "      <td>NaN</td>\n",
       "      <td>25.000000</td>\n",
       "      <td>5285.000000</td>\n",
       "      <td>2.000000</td>\n",
       "      <td>900.000000</td>\n",
       "      <td>1.000000</td>\n",
       "      <td>3.000000</td>\n",
       "      <td>NaN</td>\n",
       "      <td>192269.644879</td>\n",
       "    </tr>\n",
       "    <tr>\n",
       "      <th>75%</th>\n",
       "      <td>NaN</td>\n",
       "      <td>NaN</td>\n",
       "      <td>2.000000</td>\n",
       "      <td>65.900625</td>\n",
       "      <td>41.427234</td>\n",
       "      <td>9.000000</td>\n",
       "      <td>12.000000</td>\n",
       "      <td>17.000000</td>\n",
       "      <td>2001.000000</td>\n",
       "      <td>0.195781</td>\n",
       "      <td>NaN</td>\n",
       "      <td>NaN</td>\n",
       "      <td>36.000000</td>\n",
       "      <td>7227.000000</td>\n",
       "      <td>5.000000</td>\n",
       "      <td>990.000000</td>\n",
       "      <td>2.000000</td>\n",
       "      <td>6.000000</td>\n",
       "      <td>NaN</td>\n",
       "      <td>249135.462171</td>\n",
       "    </tr>\n",
       "    <tr>\n",
       "      <th>max</th>\n",
       "      <td>NaN</td>\n",
       "      <td>NaN</td>\n",
       "      <td>10.000000</td>\n",
       "      <td>250.000000</td>\n",
       "      <td>250.000000</td>\n",
       "      <td>100.000000</td>\n",
       "      <td>42.000000</td>\n",
       "      <td>117.000000</td>\n",
       "      <td>2021.000000</td>\n",
       "      <td>0.521867</td>\n",
       "      <td>NaN</td>\n",
       "      <td>NaN</td>\n",
       "      <td>74.000000</td>\n",
       "      <td>19083.000000</td>\n",
       "      <td>141.000000</td>\n",
       "      <td>4849.000000</td>\n",
       "      <td>6.000000</td>\n",
       "      <td>23.000000</td>\n",
       "      <td>NaN</td>\n",
       "      <td>633233.466570</td>\n",
       "    </tr>\n",
       "  </tbody>\n",
       "</table>\n",
       "</div>"
      ],
      "text/plain": [
       "           Id DistrictId         Rooms        Square    LifeSquare  \\\n",
       "count   10000      10000  10000.000000  10000.000000  10000.000000   \n",
       "unique  10000        205           NaN           NaN           NaN   \n",
       "top     13067         27           NaN           NaN           NaN   \n",
       "freq        1        851           NaN           NaN           NaN   \n",
       "mean      NaN        NaN      1.890400     56.230250     35.498879   \n",
       "std       NaN        NaN      0.824534     19.395000     16.531925   \n",
       "min       NaN        NaN      1.000000     10.000000      5.000000   \n",
       "25%       NaN        NaN      1.000000     41.774881     25.527399   \n",
       "50%       NaN        NaN      2.000000     52.513310     32.780000   \n",
       "75%       NaN        NaN      2.000000     65.900625     41.427234   \n",
       "max       NaN        NaN     10.000000    250.000000    250.000000   \n",
       "\n",
       "        KitchenSquare         Floor    HouseFloor     HouseYear     Ecology_1  \\\n",
       "count    10000.000000  10000.000000  10000.000000  10000.000000  10000.000000   \n",
       "unique            NaN           NaN           NaN           NaN           NaN   \n",
       "top               NaN           NaN           NaN           NaN           NaN   \n",
       "freq              NaN           NaN           NaN           NaN           NaN   \n",
       "mean         6.275600      8.526700     12.609400   1984.945100      0.118858   \n",
       "std          4.889114      5.241148      6.775974     18.208774      0.119025   \n",
       "min          2.000000      1.000000      0.000000   1941.000000      0.000000   \n",
       "25%          2.000000      4.000000      9.000000   1974.000000      0.017647   \n",
       "50%          6.000000      7.000000     13.000000   1977.000000      0.075424   \n",
       "75%          9.000000     12.000000     17.000000   2001.000000      0.195781   \n",
       "max        100.000000     42.000000    117.000000   2021.000000      0.521867   \n",
       "\n",
       "        Ecology_2  Ecology_3      Social_1      Social_2      Social_3  \\\n",
       "count     10000.0    10000.0  10000.000000  10000.000000  10000.000000   \n",
       "unique        2.0        2.0           NaN           NaN           NaN   \n",
       "top           1.0        1.0           NaN           NaN           NaN   \n",
       "freq       9903.0     9725.0           NaN           NaN           NaN   \n",
       "mean          NaN        NaN     24.687000   5352.157400      8.039200   \n",
       "std           NaN        NaN     17.532614   4006.799803     23.831875   \n",
       "min           NaN        NaN      0.000000    168.000000      0.000000   \n",
       "25%           NaN        NaN      6.000000   1564.000000      0.000000   \n",
       "50%           NaN        NaN     25.000000   5285.000000      2.000000   \n",
       "75%           NaN        NaN     36.000000   7227.000000      5.000000   \n",
       "max           NaN        NaN     74.000000  19083.000000    141.000000   \n",
       "\n",
       "        Healthcare_1   Helthcare_2       Shops_1  Shops_2          Price  \n",
       "count   10000.000000  10000.000000  10000.000000  10000.0   10000.000000  \n",
       "unique           NaN           NaN           NaN      2.0            NaN  \n",
       "top              NaN           NaN           NaN      1.0            NaN  \n",
       "freq             NaN           NaN           NaN   9175.0            NaN  \n",
       "mean     1026.358900      1.319500      4.231300      NaN  214138.857399  \n",
       "std       746.662828      1.493601      4.806341      NaN   92872.293865  \n",
       "min         0.000000      0.000000      0.000000      NaN   59174.778028  \n",
       "25%       830.000000      0.000000      1.000000      NaN  153872.633942  \n",
       "50%       900.000000      1.000000      3.000000      NaN  192269.644879  \n",
       "75%       990.000000      2.000000      6.000000      NaN  249135.462171  \n",
       "max      4849.000000      6.000000     23.000000      NaN  633233.466570  "
      ]
     },
     "execution_count": 34,
     "metadata": {},
     "output_type": "execute_result"
    }
   ],
   "source": [
    "df_train.describe(include='all')"
   ]
  },
  {
   "cell_type": "markdown",
   "id": "88bd84e2-06a0-455a-a6e8-644e83e63ef7",
   "metadata": {},
   "source": [
    "## Обучаем модель"
   ]
  },
  {
   "cell_type": "markdown",
   "id": "bac3364c-43e7-4192-919f-c6f3091fdd10",
   "metadata": {},
   "source": [
    "### Разбиваем Датасет на train и valid"
   ]
  },
  {
   "cell_type": "code",
   "execution_count": 35,
   "id": "6090f7b9-3e25-489e-ad26-025709785c63",
   "metadata": {},
   "outputs": [
    {
     "data": {
      "text/plain": [
       "Int64Index([6953, 3959,  270, 9723, 8157, 9362, 7046, 8461, 6353, 9175,\n",
       "            ...\n",
       "            2414, 2017, 4458, 1702, 8513, 4419, 8586, 4014, 8338, 5014],\n",
       "           dtype='int64', length=6700)"
      ]
     },
     "execution_count": 35,
     "metadata": {},
     "output_type": "execute_result"
    }
   ],
   "source": [
    "X = df_train.drop(columns='Price')\n",
    "y = df_train['Price']\n",
    "\n",
    "X_train, X_valid, y_train, y_valid = train_test_split(X, y, test_size=0.33, shuffle=True, random_state=73)\n",
    "X_train.index"
   ]
  },
  {
   "cell_type": "markdown",
   "id": "9f021089-c53c-4b57-9f29-a1f9f6beccd2",
   "metadata": {},
   "source": [
    "### Построение модели "
   ]
  },
  {
   "cell_type": "markdown",
   "id": "fb3102fc-e79c-4098-8cdf-96137a4251ce",
   "metadata": {},
   "source": [
    "Будем пользоваться линейной регрессией"
   ]
  },
  {
   "cell_type": "code",
   "execution_count": 36,
   "id": "391fbeee-059d-4cde-887f-6697a43110c4",
   "metadata": {},
   "outputs": [],
   "source": [
    "lr = LinearRegression()"
   ]
  },
  {
   "cell_type": "markdown",
   "id": "1094773d-3bc9-45e0-bb11-1f9ae2289d69",
   "metadata": {},
   "source": [
    "Обучим модель на тренировочных данных"
   ]
  },
  {
   "cell_type": "code",
   "execution_count": 37,
   "id": "2f62f6bf-b92c-4f23-b69e-15e75de967b7",
   "metadata": {},
   "outputs": [
    {
     "data": {
      "text/plain": [
       "LinearRegression()"
      ]
     },
     "execution_count": 37,
     "metadata": {},
     "output_type": "execute_result"
    }
   ],
   "source": [
    "lr.fit(X_train, y_train)"
   ]
  },
  {
   "cell_type": "markdown",
   "id": "b1c81c61-eb84-4cb2-8b81-f7ec619f93a2",
   "metadata": {},
   "source": [
    "Теперь, когда модель обучена, мы можем получить предсказанные значения на объектах X_test с помощью метода .predict:"
   ]
  },
  {
   "cell_type": "code",
   "execution_count": 39,
   "id": "e15be204-8d3a-4f65-b233-f231f5868656",
   "metadata": {},
   "outputs": [
    {
     "data": {
      "text/plain": [
       "(3300,)"
      ]
     },
     "execution_count": 39,
     "metadata": {},
     "output_type": "execute_result"
    }
   ],
   "source": [
    "y_pred = lr.predict(X_valid)\n",
    "\n",
    "y_pred.shape"
   ]
  },
  {
   "cell_type": "code",
   "execution_count": 46,
   "id": "18286f45-41ce-4ad8-b596-b120d2be12f3",
   "metadata": {},
   "outputs": [
    {
     "data": {
      "text/html": [
       "<div>\n",
       "<style scoped>\n",
       "    .dataframe tbody tr th:only-of-type {\n",
       "        vertical-align: middle;\n",
       "    }\n",
       "\n",
       "    .dataframe tbody tr th {\n",
       "        vertical-align: top;\n",
       "    }\n",
       "\n",
       "    .dataframe thead th {\n",
       "        text-align: right;\n",
       "    }\n",
       "</style>\n",
       "<table border=\"1\" class=\"dataframe\">\n",
       "  <thead>\n",
       "    <tr style=\"text-align: right;\">\n",
       "      <th></th>\n",
       "      <th>y_valid</th>\n",
       "      <th>y_pred</th>\n",
       "    </tr>\n",
       "  </thead>\n",
       "  <tbody>\n",
       "    <tr>\n",
       "      <th>1495</th>\n",
       "      <td>201571.982947</td>\n",
       "      <td>203895.833589</td>\n",
       "    </tr>\n",
       "    <tr>\n",
       "      <th>9273</th>\n",
       "      <td>245401.576583</td>\n",
       "      <td>254159.282403</td>\n",
       "    </tr>\n",
       "    <tr>\n",
       "      <th>57</th>\n",
       "      <td>200932.350329</td>\n",
       "      <td>228816.507238</td>\n",
       "    </tr>\n",
       "    <tr>\n",
       "      <th>7745</th>\n",
       "      <td>347583.008050</td>\n",
       "      <td>312200.887976</td>\n",
       "    </tr>\n",
       "    <tr>\n",
       "      <th>1937</th>\n",
       "      <td>136831.390023</td>\n",
       "      <td>136639.297038</td>\n",
       "    </tr>\n",
       "    <tr>\n",
       "      <th>...</th>\n",
       "      <td>...</td>\n",
       "      <td>...</td>\n",
       "    </tr>\n",
       "    <tr>\n",
       "      <th>6226</th>\n",
       "      <td>219007.091189</td>\n",
       "      <td>232670.339342</td>\n",
       "    </tr>\n",
       "    <tr>\n",
       "      <th>371</th>\n",
       "      <td>214944.619599</td>\n",
       "      <td>242302.577330</td>\n",
       "    </tr>\n",
       "    <tr>\n",
       "      <th>9231</th>\n",
       "      <td>301800.156753</td>\n",
       "      <td>338728.726205</td>\n",
       "    </tr>\n",
       "    <tr>\n",
       "      <th>4695</th>\n",
       "      <td>198191.744288</td>\n",
       "      <td>227831.596757</td>\n",
       "    </tr>\n",
       "    <tr>\n",
       "      <th>9207</th>\n",
       "      <td>184769.802912</td>\n",
       "      <td>207348.251443</td>\n",
       "    </tr>\n",
       "  </tbody>\n",
       "</table>\n",
       "<p>3300 rows × 2 columns</p>\n",
       "</div>"
      ],
      "text/plain": [
       "            y_valid         y_pred\n",
       "1495  201571.982947  203895.833589\n",
       "9273  245401.576583  254159.282403\n",
       "57    200932.350329  228816.507238\n",
       "7745  347583.008050  312200.887976\n",
       "1937  136831.390023  136639.297038\n",
       "...             ...            ...\n",
       "6226  219007.091189  232670.339342\n",
       "371   214944.619599  242302.577330\n",
       "9231  301800.156753  338728.726205\n",
       "4695  198191.744288  227831.596757\n",
       "9207  184769.802912  207348.251443\n",
       "\n",
       "[3300 rows x 2 columns]"
      ]
     },
     "execution_count": 46,
     "metadata": {},
     "output_type": "execute_result"
    }
   ],
   "source": [
    "check_test = pd.DataFrame({\n",
    "    \"y_valid\": y_valid,\n",
    "    \"y_pred\": y_pred,\n",
    "})\n",
    "\n",
    "check_test"
   ]
  },
  {
   "cell_type": "markdown",
   "id": "0f9034cb-f3f0-430a-a47f-456e228b587a",
   "metadata": {},
   "source": [
    "## Считаем метрику качества "
   ]
  },
  {
   "cell_type": "code",
   "execution_count": 49,
   "id": "1c076764-bb5c-47e3-994d-30926c46969e",
   "metadata": {},
   "outputs": [
    {
     "name": "stdout",
     "output_type": "stream",
     "text": [
      "R2:\t0.526\n"
     ]
    }
   ],
   "source": [
    "print(\"R2:\\t\" + str(round(r2(y_valid, y_pred), 3)))"
   ]
  },
  {
   "cell_type": "markdown",
   "id": "c7ace7c0-27dd-4178-8f91-27ef89127527",
   "metadata": {},
   "source": [
    "Не густо. Но на то это и базовое решение. "
   ]
  },
  {
   "cell_type": "markdown",
   "id": "4a05cf7b-4afb-470e-a564-4b0e4e58f1c4",
   "metadata": {},
   "source": [
    "# 3. Разведочный анализ данных (EDA) "
   ]
  },
  {
   "cell_type": "markdown",
   "id": "4639dc3d-838a-428c-82c5-2a10dee6668a",
   "metadata": {},
   "source": [
    "## Изучаем целевую переменную "
   ]
  },
  {
   "cell_type": "markdown",
   "id": "0f13c708-9523-4f4f-bd06-8541ef486c8f",
   "metadata": {},
   "source": [
    "### График 1. Распределение "
   ]
  },
  {
   "cell_type": "code",
   "execution_count": null,
   "id": "7c1ccb1e-1fa8-4f4a-bf89-aff232485579",
   "metadata": {},
   "outputs": [],
   "source": []
  },
  {
   "cell_type": "markdown",
   "id": "6343e69d-4b68-48c1-b0eb-f80df941a052",
   "metadata": {},
   "source": [
    "### График 2. Классификация "
   ]
  },
  {
   "cell_type": "code",
   "execution_count": null,
   "id": "8f32d76b-2192-4e9d-988a-2fc0505aeff2",
   "metadata": {},
   "outputs": [],
   "source": []
  },
  {
   "cell_type": "markdown",
   "id": "7457bb02-fc08-4cd7-a445-9d4c5c70e98e",
   "metadata": {},
   "source": [
    "## Изучаем признаки"
   ]
  },
  {
   "cell_type": "markdown",
   "id": "f4d45ee7-4ba0-499d-b475-ce881128d386",
   "metadata": {},
   "source": [
    "### Корреляции "
   ]
  },
  {
   "cell_type": "code",
   "execution_count": null,
   "id": "5946c607-2602-49dc-af9b-00ade6dbae41",
   "metadata": {},
   "outputs": [],
   "source": []
  },
  {
   "cell_type": "markdown",
   "id": "97c15239-73a4-4f2d-9576-2903ab1dfe6c",
   "metadata": {},
   "source": [
    "### Заполнение пропусков "
   ]
  },
  {
   "cell_type": "code",
   "execution_count": null,
   "id": "e1010508-50a1-4614-a8b5-2faff506cc75",
   "metadata": {},
   "outputs": [],
   "source": []
  },
  {
   "cell_type": "markdown",
   "id": "f6ac95d7-b432-4c48-b19b-3a24b560bf8f",
   "metadata": {},
   "source": [
    "#### LifeSquare "
   ]
  },
  {
   "cell_type": "code",
   "execution_count": null,
   "id": "1642c379-48a0-4a48-8859-f0cb2afdc573",
   "metadata": {},
   "outputs": [],
   "source": []
  },
  {
   "cell_type": "markdown",
   "id": "f16b32ea-4f12-44a9-aa94-8dfe8984d7f0",
   "metadata": {},
   "source": [
    "#### Healthcare_1 "
   ]
  },
  {
   "cell_type": "markdown",
   "id": "48d5e940-6200-4cdd-9737-81a346734075",
   "metadata": {},
   "source": []
  },
  {
   "cell_type": "markdown",
   "id": "92c5888f-cc48-4fce-b28e-0a1ffb3ae612",
   "metadata": {},
   "source": [
    "### Устраняем выбросы"
   ]
  },
  {
   "cell_type": "code",
   "execution_count": null,
   "id": "9751334e-acae-4378-b46e-703828ce6a6c",
   "metadata": {},
   "outputs": [],
   "source": []
  },
  {
   "cell_type": "markdown",
   "id": "36bde232-9a48-46cf-a7b1-2bbd93209b8f",
   "metadata": {},
   "source": [
    "## Влияние признаков на целевую переменную"
   ]
  },
  {
   "cell_type": "markdown",
   "id": "9de8a2c7-16fe-444e-98e7-cd2af96aad78",
   "metadata": {},
   "source": [
    "###  График 1"
   ]
  },
  {
   "cell_type": "code",
   "execution_count": null,
   "id": "6c6ba35f-0b06-4295-9662-f3787de95aac",
   "metadata": {},
   "outputs": [],
   "source": []
  },
  {
   "cell_type": "markdown",
   "id": "f11facf1-b79e-4e75-bb75-2ac82016e4d2",
   "metadata": {},
   "source": [
    "### График 2"
   ]
  },
  {
   "cell_type": "code",
   "execution_count": null,
   "id": "1df170ff-d234-4703-a20a-f235281d0633",
   "metadata": {},
   "outputs": [],
   "source": []
  },
  {
   "cell_type": "markdown",
   "id": "362fb052-d531-4015-9643-82509fd6061c",
   "metadata": {},
   "source": [
    "### График 3 "
   ]
  },
  {
   "cell_type": "code",
   "execution_count": null,
   "id": "ab92f909-4fb1-48d8-bf03-9ac0e713988e",
   "metadata": {},
   "outputs": [],
   "source": []
  },
  {
   "cell_type": "markdown",
   "id": "010bf88e-56f3-4e74-b7d2-d67893ed0831",
   "metadata": {},
   "source": [
    "## Создание новых признаков "
   ]
  },
  {
   "cell_type": "code",
   "execution_count": null,
   "id": "f44e7b65-8dd5-48d0-a1ca-d03da77e4244",
   "metadata": {},
   "outputs": [],
   "source": []
  },
  {
   "cell_type": "markdown",
   "id": "6b650d66-b937-48e9-bdfb-5c7891a0ffcc",
   "metadata": {},
   "source": [
    "# 5. Предобработка данных "
   ]
  },
  {
   "cell_type": "code",
   "execution_count": null,
   "id": "db5d41cf-654d-4ac3-b8dd-bfe93024dc36",
   "metadata": {},
   "outputs": [],
   "source": []
  },
  {
   "cell_type": "markdown",
   "id": "ce78162c-d51f-43b4-95fb-b0e57d262321",
   "metadata": {},
   "source": [
    "## Разделим данные на train и valid "
   ]
  },
  {
   "cell_type": "code",
   "execution_count": null,
   "id": "8eb9b4c5-58ff-4621-98f9-109110997502",
   "metadata": {},
   "outputs": [],
   "source": []
  },
  {
   "cell_type": "markdown",
   "id": "c84614bc-3fe0-4659-852f-873884eb2221",
   "metadata": {},
   "source": [
    "## Масштабируем данные "
   ]
  },
  {
   "cell_type": "code",
   "execution_count": null,
   "id": "14f8c8e2-16b6-4d8b-b1a7-3e901fad4fa2",
   "metadata": {},
   "outputs": [],
   "source": []
  },
  {
   "cell_type": "markdown",
   "id": "59a4060c-586b-4343-a4b6-9b1768e984fa",
   "metadata": {},
   "source": [
    "## Заполним пропуски "
   ]
  },
  {
   "cell_type": "code",
   "execution_count": null,
   "id": "59d9d50c-d49e-4670-9ab7-d18b5a13efdd",
   "metadata": {},
   "outputs": [],
   "source": []
  },
  {
   "cell_type": "markdown",
   "id": "34272331-173b-40d7-9ee4-4dc48625c21b",
   "metadata": {},
   "source": [
    "## Обработаем выбросы "
   ]
  },
  {
   "cell_type": "code",
   "execution_count": null,
   "id": "176d3de6-1760-4b80-8d43-08f9b30d6e41",
   "metadata": {},
   "outputs": [],
   "source": []
  },
  {
   "cell_type": "markdown",
   "id": "75537412-8fb7-4cbc-b706-13200797a668",
   "metadata": {},
   "source": [
    "## Генерируем новые признаки "
   ]
  },
  {
   "cell_type": "code",
   "execution_count": null,
   "id": "09493330-a8e4-4ebf-b502-0d99f7002897",
   "metadata": {},
   "outputs": [],
   "source": []
  },
  {
   "cell_type": "markdown",
   "id": "246db8eb-2f02-44a8-8487-aff8aaa0b893",
   "metadata": {},
   "source": [
    "## Класс предобработки данных: "
   ]
  },
  {
   "cell_type": "code",
   "execution_count": null,
   "id": "b6e74e31-8c1a-47e0-a2d0-8307bdb0c5ed",
   "metadata": {},
   "outputs": [],
   "source": []
  },
  {
   "cell_type": "markdown",
   "id": "173f1a33-332f-45b9-8540-6a36c79c7eaf",
   "metadata": {},
   "source": [
    "# 6. Обучение и валидация моделей "
   ]
  },
  {
   "cell_type": "code",
   "execution_count": null,
   "id": "e669d6cd-2db9-4c60-8158-4e1e5bbce502",
   "metadata": {},
   "outputs": [],
   "source": []
  },
  {
   "cell_type": "markdown",
   "id": "02007638-b329-4ecd-a655-e7cb191d9169",
   "metadata": {},
   "source": [
    "## Обучение модели на базовых гиперпараметрах "
   ]
  },
  {
   "cell_type": "code",
   "execution_count": null,
   "id": "d08eb960-97d4-450a-80f3-f5a7148a76ef",
   "metadata": {},
   "outputs": [],
   "source": []
  },
  {
   "cell_type": "markdown",
   "id": "12dcb239-b866-496f-9b62-8857a9c33ea0",
   "metadata": {},
   "source": [
    "## Настраиваем гиперпараметры "
   ]
  },
  {
   "cell_type": "code",
   "execution_count": null,
   "id": "e57b829a-df5b-41b7-8d87-21454dd30310",
   "metadata": {},
   "outputs": [],
   "source": []
  },
  {
   "cell_type": "markdown",
   "id": "ac0726ce-d7e2-4966-ba3e-32e74b2791da",
   "metadata": {},
   "source": [
    "## Автоматизированный выбор гиперпараметров с кросс-валидацией GridSearch CV/RandomSearchCV "
   ]
  },
  {
   "cell_type": "code",
   "execution_count": null,
   "id": "9f127616-a360-44d1-8773-7bebbc18b68a",
   "metadata": {},
   "outputs": [],
   "source": []
  },
  {
   "cell_type": "markdown",
   "id": "527b5087-87d6-4653-bbd6-a5ad38e17722",
   "metadata": {},
   "source": [
    "## Следим за переобучением, если оно появилось - ищем лучшие параметры регуляризации  "
   ]
  },
  {
   "cell_type": "code",
   "execution_count": null,
   "id": "70030555-6a3c-4c4e-8b6e-1eb1c35fc1e9",
   "metadata": {},
   "outputs": [],
   "source": []
  },
  {
   "cell_type": "markdown",
   "id": "25198a21-a77d-43d5-a2f4-b632ad50239f",
   "metadata": {},
   "source": [
    "## Считаем метрики  "
   ]
  },
  {
   "cell_type": "code",
   "execution_count": null,
   "id": "1a4e7aca-1399-4a98-a367-18a405dc118d",
   "metadata": {},
   "outputs": [],
   "source": []
  },
  {
   "cell_type": "markdown",
   "id": "48826099-783b-49e3-9536-d1f3b95ae055",
   "metadata": {},
   "source": [
    "# 7. Сохраним "
   ]
  },
  {
   "cell_type": "code",
   "execution_count": null,
   "id": "bf22adc5-f30b-43b1-b7b9-9eb2469bca8c",
   "metadata": {},
   "outputs": [],
   "source": []
  }
 ],
 "metadata": {
  "kernelspec": {
   "display_name": "Python 3",
   "language": "python",
   "name": "python3"
  },
  "language_info": {
   "codemirror_mode": {
    "name": "ipython",
    "version": 3
   },
   "file_extension": ".py",
   "mimetype": "text/x-python",
   "name": "python",
   "nbconvert_exporter": "python",
   "pygments_lexer": "ipython3",
   "version": "3.8.10"
  }
 },
 "nbformat": 4,
 "nbformat_minor": 5
}
